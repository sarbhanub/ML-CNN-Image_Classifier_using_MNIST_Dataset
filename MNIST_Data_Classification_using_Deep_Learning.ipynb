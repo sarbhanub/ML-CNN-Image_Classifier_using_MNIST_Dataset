{
  "nbformat": 4,
  "nbformat_minor": 0,
  "metadata": {
    "colab": {
      "name": "MNIST Data - Classification using Deep Learning.ipynb",
      "provenance": [],
      "collapsed_sections": []
    },
    "kernelspec": {
      "name": "python3",
      "display_name": "Python 3"
    },
    "language_info": {
      "name": "python"
    }
  },
  "cells": [
    {
      "cell_type": "markdown",
      "metadata": {
        "id": "TZYFIxHEUWCk"
      },
      "source": [
        "#A multi layered fully Connected Neural Network to classify images from MNIST Dataset\n",
        "\n",
        "\n",
        "\n"
      ]
    },
    {
      "cell_type": "markdown",
      "metadata": {
        "id": "xAW8hOkd_KM1"
      },
      "source": [
        "##Introduction"
      ]
    },
    {
      "cell_type": "markdown",
      "metadata": {
        "id": "X9MyY1nHwSMH"
      },
      "source": [
        "### Dataset Information\n",
        "This MNIST dataset consists of 70,000 images of handwritten digits where each digit of size 28 x 28 is flattened into a vector of size 784. These 70,000 images are split into training set and testing set where the training set consists of 60,000 images and the test set consists of 10,000 images."
      ]
    },
    {
      "cell_type": "markdown",
      "metadata": {
        "id": "v-EwDUf4VFZl"
      },
      "source": [
        "###Library Imports"
      ]
    },
    {
      "cell_type": "markdown",
      "metadata": {
        "id": "7RAmvJlC7KFz"
      },
      "source": [
        "**Imports:** TensprFlow, NumPy, Pandas, matplotlib, keras, scikit-learn, seaborn"
      ]
    },
    {
      "cell_type": "code",
      "metadata": {
        "id": "HJrzw-ddTDt1"
      },
      "source": [
        "import tensorflow as tf\n",
        "import numpy as np\n",
        "import pandas as pd\n",
        "import matplotlib.pyplot as plt\n",
        "%matplotlib inline\n",
        "import keras\n",
        "from keras.layers import Dense, Dropout\n",
        "from sklearn.metrics import confusion_matrix\n",
        "import seaborn as sns\n",
        "\n",
        "np.random.seed(0) # for constant results"
      ],
      "execution_count": null,
      "outputs": []
    },
    {
      "cell_type": "markdown",
      "metadata": {
        "id": "03J-_WIoVzDH"
      },
      "source": [
        "##Importing MNIST Dataset"
      ]
    },
    {
      "cell_type": "code",
      "metadata": {
        "id": "hMlj_JevVybJ"
      },
      "source": [
        "from keras.datasets import mnist\n",
        "(x_train, y_train), (x_test, y_test) = mnist.load_data() # downloading data from tf datasets"
      ],
      "execution_count": null,
      "outputs": []
    },
    {
      "cell_type": "markdown",
      "metadata": {
        "id": "XBNMYWAo1Pet"
      },
      "source": [
        "###Checking Data"
      ]
    },
    {
      "cell_type": "code",
      "metadata": {
        "colab": {
          "base_uri": "https://localhost:8080/"
        },
        "id": "1BztSeuHVIuc",
        "outputId": "6393ba05-4d9e-4d2c-b0bf-07beea3a06c9"
      },
      "source": [
        "print(x_train.shape, y_train.shape)\n",
        "print(x_test.shape, y_test.shape)"
      ],
      "execution_count": null,
      "outputs": [
        {
          "output_type": "stream",
          "text": [
            "(60000, 28, 28) (60000,)\n",
            "(10000, 28, 28) (10000,)\n"
          ],
          "name": "stdout"
        }
      ]
    },
    {
      "cell_type": "markdown",
      "metadata": {
        "id": "cxahKJTdxyl8"
      },
      "source": [
        "###Visualization"
      ]
    },
    {
      "cell_type": "code",
      "metadata": {
        "colab": {
          "base_uri": "https://localhost:8080/",
          "height": 186
        },
        "id": "Lhgi4pVwXjuU",
        "outputId": "ea6d63a2-e1a4-43e5-c938-4a668da93a56"
      },
      "source": [
        "num_classes = 10\n",
        "f, ax = plt.subplots(1, num_classes, figsize=(28,28))\n",
        "for i in range(0, num_classes):\n",
        "  sample = x_train[y_train == i][0]\n",
        "  ax[i].imshow(sample, cmap='gray')\n",
        "  ax[i].set_title(format(i), fontsize=14)"
      ],
      "execution_count": null,
      "outputs": [
        {
          "output_type": "display_data",
          "data": {
            "image/png": "[encoded data removed]",
            "text/plain": [
              "<Figure size 2016x2016 with 10 Axes>"
            ]
          },
          "metadata": {
            "tags": [],
            "needs_background": "light"
          }
        }
      ]
    },
    {
      "cell_type": "code",
      "metadata": {
        "colab": {
          "base_uri": "https://localhost:8080/"
        },
        "id": "zxXfzMGd0F0B",
        "outputId": "50a2be82-87a7-4a69-8b4d-b93afb3936a3"
      },
      "source": [
        "for i in range(10):\n",
        "  print(y_train[i], end=\" \")"
      ],
      "execution_count": null,
      "outputs": [
        {
          "output_type": "stream",
          "text": [
            "5 0 4 1 9 2 1 3 1 4 "
          ],
          "name": "stdout"
        }
      ]
    },
    {
      "cell_type": "markdown",
      "metadata": {
        "id": "mGZXC2W91hX7"
      },
      "source": [
        "##Processing the Data"
      ]
    },
    {
      "cell_type": "markdown",
      "metadata": {
        "id": "XM_Lfjb618BC"
      },
      "source": [
        "###Changing the Representation"
      ]
    },
    {
      "cell_type": "markdown",
      "metadata": {
        "id": "O0G5RbrR1cf5"
      },
      "source": [
        "A binary matrix representation of the data for Classification."
      ]
    },
    {
      "cell_type": "code",
      "metadata": {
        "id": "AQt57fjo1GM8"
      },
      "source": [
        "y_train = tf.keras.utils.to_categorical(y_train, num_classes)\n",
        "y_test = tf.keras.utils.to_categorical(y_test, num_classes)"
      ],
      "execution_count": null,
      "outputs": []
    },
    {
      "cell_type": "markdown",
      "metadata": {
        "id": "yXNxG7Fl1sOb"
      },
      "source": [
        "###Vector Map\n",
        "Printing the categorigal data."
      ]
    },
    {
      "cell_type": "code",
      "metadata": {
        "colab": {
          "base_uri": "https://localhost:8080/"
        },
        "id": "YUzw8m9aH16K",
        "outputId": "a0fc1dc5-18d3-4a7a-a61f-c9d9c678d544"
      },
      "source": [
        "for i in range(10):\n",
        "  print(y_train[i])"
      ],
      "execution_count": null,
      "outputs": [
        {
          "output_type": "stream",
          "text": [
            "[0. 0. 0. 0. 0. 1. 0. 0. 0. 0.]\n",
            "[1. 0. 0. 0. 0. 0. 0. 0. 0. 0.]\n",
            "[0. 0. 0. 0. 1. 0. 0. 0. 0. 0.]\n",
            "[0. 1. 0. 0. 0. 0. 0. 0. 0. 0.]\n",
            "[0. 0. 0. 0. 0. 0. 0. 0. 0. 1.]\n",
            "[0. 0. 1. 0. 0. 0. 0. 0. 0. 0.]\n",
            "[0. 1. 0. 0. 0. 0. 0. 0. 0. 0.]\n",
            "[0. 0. 0. 1. 0. 0. 0. 0. 0. 0.]\n",
            "[0. 1. 0. 0. 0. 0. 0. 0. 0. 0.]\n",
            "[0. 0. 0. 0. 1. 0. 0. 0. 0. 0.]\n"
          ],
          "name": "stdout"
        }
      ]
    },
    {
      "cell_type": "markdown",
      "metadata": {
        "id": "WG6qFvkaIkGL"
      },
      "source": [
        "Normalising the Data"
      ]
    },
    {
      "cell_type": "code",
      "metadata": {
        "id": "nD_CvGCgIg3B"
      },
      "source": [
        "x_train = x_train/255.0\n",
        "x_test = x_test/255.0"
      ],
      "execution_count": null,
      "outputs": []
    },
    {
      "cell_type": "code",
      "metadata": {
        "id": "NOb1dZ70JkD5"
      },
      "source": [
        "x_train = x_train.reshape(x_train.shape[0], -1)\n",
        "x_test = x_test.reshape(x_test.shape[0], -1)"
      ],
      "execution_count": null,
      "outputs": []
    },
    {
      "cell_type": "code",
      "metadata": {
        "colab": {
          "base_uri": "https://localhost:8080/"
        },
        "id": "dg6LynldKMND",
        "outputId": "5aeb60cf-eb53-400f-bd32-5923ad60425b"
      },
      "source": [
        "print(x_train.shape)"
      ],
      "execution_count": null,
      "outputs": [
        {
          "output_type": "stream",
          "text": [
            "(60000, 784)\n"
          ],
          "name": "stdout"
        }
      ]
    },
    {
      "cell_type": "markdown",
      "metadata": {
        "id": "R2AlgZ2LKVTa"
      },
      "source": [
        "##Building the Model"
      ]
    },
    {
      "cell_type": "markdown",
      "metadata": {
        "id": "od8Og7Y_2PoC"
      },
      "source": [
        "Summary of The Model at the Output"
      ]
    },
    {
      "cell_type": "code",
      "metadata": {
        "colab": {
          "base_uri": "https://localhost:8080/"
        },
        "id": "btpRJza7KT9h",
        "outputId": "90ce9016-98e2-4a00-89dd-ca49b20dc82e"
      },
      "source": [
        "cnnmodel = keras.models.Sequential()\n",
        "cnnmodel.add(Dense(units=128, input_shape=(784,), activation='relu'))\n",
        "cnnmodel.add(Dense(units=128, activation='relu'))\n",
        "cnnmodel.add(Dropout(0.25))\n",
        "cnnmodel.add(Dense(units=10, activation='softmax'))\n",
        "cnnmodel.compile(loss='categorical_crossentropy', optimizer='adam', metrics=['accuracy'])\n",
        "cnnmodel.summary()"
      ],
      "execution_count": null,
      "outputs": [
        {
          "output_type": "stream",
          "text": [
            "Model: \"sequential\"\n",
            "_________________________________________________________________\n",
            "Layer (type)                 Output Shape              Param #   \n",
            "=================================================================\n",
            "dense (Dense)                (None, 128)               100480    \n",
            "_________________________________________________________________\n",
            "dense_1 (Dense)              (None, 128)               16512     \n",
            "_________________________________________________________________\n",
            "dropout (Dropout)            (None, 128)               0         \n",
            "_________________________________________________________________\n",
            "dense_2 (Dense)              (None, 10)                1290      \n",
            "=================================================================\n",
            "Total params: 118,282\n",
            "Trainable params: 118,282\n",
            "Non-trainable params: 0\n",
            "_________________________________________________________________\n"
          ],
          "name": "stdout"
        }
      ]
    },
    {
      "cell_type": "markdown",
      "metadata": {
        "id": "pTJPd0872Uei"
      },
      "source": [
        "## Fitting the Model with our Data\n",
        "here x_train is the input and y_train output layer of our model."
      ]
    },
    {
      "cell_type": "code",
      "metadata": {
        "id": "sVWmbvL_LY0F",
        "colab": {
          "base_uri": "https://localhost:8080/"
        },
        "outputId": "ed7cf6ac-3381-4206-961a-35ef4d73b45c"
      },
      "source": [
        "size = 128\n",
        "epochs = 20\n",
        "hist = cnnmodel.fit(x=x_train, y=y_train, batch_size=size, epochs=epochs)"
      ],
      "execution_count": null,
      "outputs": [
        {
          "output_type": "stream",
          "text": [
            "Epoch 1/20\n",
            "469/469 [==============================] - 16s 4ms/step - loss: 0.6629 - accuracy: 0.8014\n",
            "Epoch 2/20\n",
            "469/469 [==============================] - 2s 4ms/step - loss: 0.1551 - accuracy: 0.9546\n",
            "Epoch 3/20\n",
            "469/469 [==============================] - 2s 3ms/step - loss: 0.1022 - accuracy: 0.9697\n",
            "Epoch 4/20\n",
            "469/469 [==============================] - 2s 4ms/step - loss: 0.0758 - accuracy: 0.9773\n",
            "Epoch 5/20\n",
            "469/469 [==============================] - 2s 3ms/step - loss: 0.0596 - accuracy: 0.9816\n",
            "Epoch 6/20\n",
            "469/469 [==============================] - 2s 3ms/step - loss: 0.0479 - accuracy: 0.9852\n",
            "Epoch 7/20\n",
            "469/469 [==============================] - 2s 3ms/step - loss: 0.0413 - accuracy: 0.9875\n",
            "Epoch 8/20\n",
            "469/469 [==============================] - 2s 3ms/step - loss: 0.0334 - accuracy: 0.9895\n",
            "Epoch 9/20\n",
            "469/469 [==============================] - 2s 3ms/step - loss: 0.0275 - accuracy: 0.9914\n",
            "Epoch 10/20\n",
            "469/469 [==============================] - 2s 4ms/step - loss: 0.0234 - accuracy: 0.9925\n",
            "Epoch 11/20\n",
            "469/469 [==============================] - 2s 4ms/step - loss: 0.0207 - accuracy: 0.9932\n",
            "Epoch 12/20\n",
            "469/469 [==============================] - 2s 3ms/step - loss: 0.0196 - accuracy: 0.9934\n",
            "Epoch 13/20\n",
            "469/469 [==============================] - 2s 3ms/step - loss: 0.0178 - accuracy: 0.9944\n",
            "Epoch 14/20\n",
            "469/469 [==============================] - 2s 4ms/step - loss: 0.0192 - accuracy: 0.9937\n",
            "Epoch 15/20\n",
            "469/469 [==============================] - 2s 3ms/step - loss: 0.0123 - accuracy: 0.9962\n",
            "Epoch 16/20\n",
            "469/469 [==============================] - 2s 4ms/step - loss: 0.0136 - accuracy: 0.9953\n",
            "Epoch 17/20\n",
            "469/469 [==============================] - 2s 3ms/step - loss: 0.0114 - accuracy: 0.9962\n",
            "Epoch 18/20\n",
            "469/469 [==============================] - 2s 3ms/step - loss: 0.0107 - accuracy: 0.9962\n",
            "Epoch 19/20\n",
            "469/469 [==============================] - 2s 4ms/step - loss: 0.0114 - accuracy: 0.9967\n",
            "Epoch 20/20\n",
            "469/469 [==============================] - 2s 4ms/step - loss: 0.0081 - accuracy: 0.9973\n"
          ],
          "name": "stdout"
        }
      ]
    },
    {
      "cell_type": "markdown",
      "metadata": {
        "id": "Coq1iJF63CKs"
      },
      "source": [
        "Checking for **Loss** and **Accuracy** of our trained model."
      ]
    },
    {
      "cell_type": "code",
      "metadata": {
        "colab": {
          "base_uri": "https://localhost:8080/"
        },
        "id": "Py9SYwi3Mybd",
        "outputId": "51c1bd74-9a84-417a-f7b5-17e2a8811240"
      },
      "source": [
        "loss, accuracy = cnnmodel.evaluate(x_test, y_test)\n",
        "print(\"Loss: {}, Accuracy: {}\".format(loss, accuracy))"
      ],
      "execution_count": null,
      "outputs": [
        {
          "output_type": "stream",
          "text": [
            "313/313 [==============================] - 1s 1ms/step - loss: 0.0912 - accuracy: 0.9797\n",
            "Loss: 0.0912303775548935, Accuracy: 0.9797000288963318\n"
          ],
          "name": "stdout"
        }
      ]
    },
    {
      "cell_type": "markdown",
      "metadata": {
        "id": "x8TzgQPb3GVE"
      },
      "source": [
        "### Plotting the Model Fitting\n",
        "Plotting the data for a better understanding.\n",
        "\n",
        "You can see how the loss is reducing after every epoch and subsequently how the accuracy is increasing w.r.t. epoch.\n",
        "\n",
        "\n"
      ]
    },
    {
      "cell_type": "code",
      "metadata": {
        "colab": {
          "base_uri": "https://localhost:8080/",
          "height": 282
        },
        "id": "JldGu2XRxV1c",
        "outputId": "b195ec7f-a529-4469-983e-568b304a1dfa"
      },
      "source": [
        "metrics = pd.DataFrame(hist.history)\n",
        "metrics[['loss', 'accuracy']].plot()"
      ],
      "execution_count": null,
      "outputs": [
        {
          "output_type": "execute_result",
          "data": {
            "text/plain": [
              "<matplotlib.axes._subplots.AxesSubplot at 0x7f527dc64190>"
            ]
          },
          "metadata": {
            "tags": []
          },
          "execution_count": 14
        },
        {
          "output_type": "display_data",
          "data": {
            "image/png": "[encoded data removed]",
            "text/plain": [
              "<Figure size 432x288 with 1 Axes>"
            ]
          },
          "metadata": {
            "tags": [],
            "needs_background": "light"
          }
        }
      ]
    },
    {
      "cell_type": "markdown",
      "metadata": {
        "id": "NnvXhyUMnJ0C"
      },
      "source": [
        "###Prediction Table\n",
        "\n",
        "From this table we can see the prediction status for the x_test data. One Row value of the matrix is high. Determining the output for the o/p layer of our trained NN."
      ]
    },
    {
      "cell_type": "code",
      "metadata": {
        "colab": {
          "base_uri": "https://localhost:8080/"
        },
        "id": "HtxrZrW7O4dz",
        "outputId": "cdb3dc18-cddb-4655-f8ea-e9276c5ae689"
      },
      "source": [
        "y_predict = cnnmodel.predict(x_test)\n",
        "y_predict_classes = np.argmax(y_predict, axis=1)\n",
        "print(y_predict)\n",
        "print(y_predict_classes)"
      ],
      "execution_count": null,
      "outputs": [
        {
          "output_type": "stream",
          "text": [
            "[[3.94132562e-13 6.65187280e-11 1.43268114e-11 ... 9.99995112e-01\n",
            "  3.85243222e-14 3.88585977e-06]\n",
            " [2.41825494e-13 1.78352213e-08 1.00000000e+00 ... 4.26383545e-14\n",
            "  1.62237820e-10 7.68804118e-21]\n",
            " [1.26959288e-09 9.99990344e-01 4.21381316e-07 ... 9.05199272e-07\n",
            "  6.80071162e-06 2.28615438e-09]\n",
            " ...\n",
            " [7.32056000e-18 3.05944137e-12 8.50224045e-18 ... 1.53688867e-11\n",
            "  8.95307157e-13 3.02405878e-11]\n",
            " [3.46704514e-20 4.96311211e-20 6.74469662e-22 ... 3.69112341e-23\n",
            "  4.26441593e-09 3.69843179e-19]\n",
            " [1.08332925e-17 2.83683576e-17 1.79838598e-18 ... 3.37954875e-24\n",
            "  5.52201412e-14 1.52810713e-16]]\n",
            "[7 2 1 ... 4 5 6]\n"
          ],
          "name": "stdout"
        }
      ]
    },
    {
      "cell_type": "markdown",
      "metadata": {
        "id": "peFdnu_b4_Oj"
      },
      "source": [
        "## Chceking the Model\n",
        "Randomly choosing a field to see if the prediction is correct or not. Our model has almost 98% accuracy and in this case this is predicting the correct value."
      ]
    },
    {
      "cell_type": "code",
      "metadata": {
        "colab": {
          "base_uri": "https://localhost:8080/",
          "height": 299
        },
        "id": "3C8sh95YNQv1",
        "outputId": "8157b266-35cb-4e00-da94-900e76ef3870"
      },
      "source": [
        "random = np.random.choice(len(x_test))\n",
        "x_sample = x_test[random]\n",
        "y_true = np.argmax(y_test, axis=1)\n",
        "y_sample_true = y_true[random]\n",
        "y_sample_predicted_class = y_predict_classes[random]\n",
        "\n",
        "plt.imshow(x_sample.reshape(28, 28), cmap='gray')\n",
        "plt.title(\"Predicted: {}, Original: {}\".format(y_sample_predicted_class, y_sample_true), fontsize=14)"
      ],
      "execution_count": null,
      "outputs": [
        {
          "output_type": "execute_result",
          "data": {
            "text/plain": [
              "Text(0.5, 1.0, 'Predicted: 6, Original: 6')"
            ]
          },
          "metadata": {
            "tags": []
          },
          "execution_count": 16
        },
        {
          "output_type": "display_data",
          "data": {
            "image/png": "[encoded data removed]",
            "text/plain": [
              "<Figure size 432x288 with 1 Axes>"
            ]
          },
          "metadata": {
            "tags": [],
            "needs_background": "light"
          }
        }
      ]
    },
    {
      "cell_type": "markdown",
      "metadata": {
        "id": "HIlxkyhIg4gb"
      },
      "source": [
        "## Confusion Matrix\n",
        "\n",
        "Confusion Matrix to see how our Classifier is operating.\n",
        "Here We can individually see how our model is performing against different digits."
      ]
    },
    {
      "cell_type": "code",
      "metadata": {
        "colab": {
          "base_uri": "https://localhost:8080/",
          "height": 644
        },
        "id": "P9rzfQ5RQBmv",
        "outputId": "341a5d3b-3337-4ad1-a8ea-56ae08d2778d"
      },
      "source": [
        "cf_mat = confusion_matrix(y_true, y_predict_classes)\n",
        "fig, axis = plt.subplots(figsize=(15,10))\n",
        "ax = sns.heatmap(cf_mat, annot=True, fmt='g', ax=axis, cmap='Blues')\n",
        "ax.set_xlabel(\"Predicted Label\", fontsize=14)\n",
        "ax.set_ylabel(\"Original Label\", fontsize=14)\n",
        "ax.set_title(\"Confusion Matrix\", fontsize=14)"
      ],
      "execution_count": null,
      "outputs": [
        {
          "output_type": "execute_result",
          "data": {
            "text/plain": [
              "Text(0.5, 1.0, 'Confusion Matrix')"
            ]
          },
          "metadata": {
            "tags": []
          },
          "execution_count": 17
        },
        {
          "output_type": "display_data",
          "data": {
            "image/png": "[encoded data removed]",
            "text/plain": [
              "<Figure size 1080x720 with 2 Axes>"
            ]
          },
          "metadata": {
            "tags": [],
            "needs_background": "light"
          }
        }
      ]
    },
    {
      "cell_type": "markdown",
      "metadata": {
        "id": "UJZuTrVH9zfL"
      },
      "source": [
        "##Conclusion\n",
        "\n",
        "We can see **'1'** is having the best predictive result(**most confident**) compared to other digits as it has the **least complication** and our model can predict almost every test data correctly whereas **'5'** is being the **least confident** among others as the digit itself has **complicated features**, so it is a little hard to perdict compared to other digits."
      ]
    }
  ]
}